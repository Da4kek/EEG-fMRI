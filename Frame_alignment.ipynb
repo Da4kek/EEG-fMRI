{
 "cells": [
  {
   "cell_type": "code",
   "execution_count": 1,
   "metadata": {},
   "outputs": [],
   "source": [
    "import cv2\n",
    "import mne\n",
    "import numpy as np"
   ]
  },
  {
   "cell_type": "code",
   "execution_count": 2,
   "metadata": {},
   "outputs": [],
   "source": [
    "video_files = {\n",
    "    'inscapes': 'Data/video.tar/Inscapes_02.avi',\n",
    "    'dme_run-01': 'Data/video.tar/Despicable_Me_720x480_English.avi',\n",
    "    'tp_run-01': 'Data/video.tar/The_Present_720x480.avi',\n",
    "}"
   ]
  },
  {
   "cell_type": "code",
   "execution_count": 3,
   "metadata": {},
   "outputs": [],
   "source": [
    "def get_frame_times(video_path):\n",
    "    cap = cv2.VideoCapture(video_path)\n",
    "    fps = cap.get(cv2.CAP_PROP_FPS)\n",
    "    frame_count = int(cap.get(cv2.CAP_PROP_FRAME_COUNT))\n",
    "    duration = frame_count / fps\n",
    "    frame_times = np.linspace(0, duration, frame_count)\n",
    "    return frame_times, fps, frame_count, duration"
   ]
  },
  {
   "cell_type": "code",
   "execution_count": 4,
   "metadata": {},
   "outputs": [],
   "source": [
    "eeg_files = {\n",
    "    'inscapes': 'Data/sub-01/ses-01/eeg/sub-01_ses-01_task-inscapes_eeg.set',\n",
    "    'dme_run-01': 'Data/sub-01/ses-01/eeg/sub-01_ses-01_task-dme_run-01_eeg.set',\n",
    "    'tp_run-01': 'Data/sub-01/ses-01/eeg/sub-01_ses-01_task-tp_run-01_eeg.set',\n",
    "}\n",
    "\n",
    "def load_eeg(eeg_path):\n",
    "    return mne.io.read_raw_eeglab(eeg_path, preload=True)"
   ]
  },
  {
   "cell_type": "code",
   "execution_count": 5,
   "metadata": {},
   "outputs": [
    {
     "name": "stderr",
     "output_type": "stream",
     "text": [
      "C:\\Users\\anisr\\AppData\\Local\\Temp\\ipykernel_17024\\2515386789.py:8: RuntimeWarning: Limited 2 annotation(s) that were expanding outside the data range.\n",
      "  return mne.io.read_raw_eeglab(eeg_path, preload=True)\n",
      "C:\\Users\\anisr\\AppData\\Local\\Temp\\ipykernel_17024\\2515386789.py:8: RuntimeWarning: The data contains 'boundary' events, indicating data discontinuities. Be cautious of filtering and epoching around these events.\n",
      "  return mne.io.read_raw_eeglab(eeg_path, preload=True)\n"
     ]
    }
   ],
   "source": [
    "task = 'inscapes'\n",
    "video_path = video_files[task]\n",
    "eeg_file_path = eeg_files[task]\n",
    "\n",
    "frame_times, fps, frame_count, duration = get_frame_times(video_path)\n",
    "\n",
    "\n",
    "eeg_data = load_eeg(eeg_file_path)\n",
    "eeg_times = eeg_data.times\n",
    "\n",
    "video_start_time = 0  \n",
    "aligned_times = video_start_time + frame_times"
   ]
  },
  {
   "cell_type": "code",
   "execution_count": 6,
   "metadata": {},
   "outputs": [
    {
     "name": "stderr",
     "output_type": "stream",
     "text": [
      "C:\\Users\\anisr\\AppData\\Local\\Temp\\ipykernel_17024\\2515386789.py:8: RuntimeWarning: Limited 2 annotation(s) that were expanding outside the data range.\n",
      "  return mne.io.read_raw_eeglab(eeg_path, preload=True)\n",
      "C:\\Users\\anisr\\AppData\\Local\\Temp\\ipykernel_17024\\2515386789.py:8: RuntimeWarning: The data contains 'boundary' events, indicating data discontinuities. Be cautious of filtering and epoching around these events.\n",
      "  return mne.io.read_raw_eeglab(eeg_path, preload=True)\n",
      "C:\\Users\\anisr\\AppData\\Local\\Temp\\ipykernel_17024\\2515386789.py:8: RuntimeWarning: Limited 3 annotation(s) that were expanding outside the data range.\n",
      "  return mne.io.read_raw_eeglab(eeg_path, preload=True)\n",
      "C:\\Users\\anisr\\AppData\\Local\\Temp\\ipykernel_17024\\2515386789.py:8: RuntimeWarning: The data contains 'boundary' events, indicating data discontinuities. Be cautious of filtering and epoching around these events.\n",
      "  return mne.io.read_raw_eeglab(eeg_path, preload=True)\n",
      "C:\\Users\\anisr\\AppData\\Local\\Temp\\ipykernel_17024\\2515386789.py:8: RuntimeWarning: Limited 2 annotation(s) that were expanding outside the data range.\n",
      "  return mne.io.read_raw_eeglab(eeg_path, preload=True)\n",
      "C:\\Users\\anisr\\AppData\\Local\\Temp\\ipykernel_17024\\2515386789.py:8: RuntimeWarning: The data contains 'boundary' events, indicating data discontinuities. Be cautious of filtering and epoching around these events.\n",
      "  return mne.io.read_raw_eeglab(eeg_path, preload=True)\n"
     ]
    }
   ],
   "source": [
    "for task in eeg_files.keys():\n",
    "    video_path = video_files.get(task)\n",
    "    if not video_path:\n",
    "        print(f\"No video available for task {task}\")\n",
    "        continue\n",
    "\n",
    "    eeg_file_path = eeg_files[task]\n",
    "    frame_times, fps, frame_count, duration = get_frame_times(video_path)\n",
    "    eeg_data = load_eeg(eeg_file_path)\n",
    "    eeg_times = eeg_data.times\n",
    "    aligned_times = video_start_time + frame_times"
   ]
  },
  {
   "cell_type": "code",
   "execution_count": 7,
   "metadata": {},
   "outputs": [
    {
     "name": "stdout",
     "output_type": "stream",
     "text": [
      "7749\n",
      "65607\n"
     ]
    }
   ],
   "source": [
    "print(len(aligned_times))\n",
    "print(len(eeg_times))"
   ]
  },
  {
   "cell_type": "code",
   "execution_count": 8,
   "metadata": {},
   "outputs": [
    {
     "name": "stdout",
     "output_type": "stream",
     "text": [
      "['sub-01_ses-01_task-checker_bold', 'sub-01_ses-01_task-dme_run-01_bold', 'sub-01_ses-01_task-dme_run-02_bold', 'sub-01_ses-01_task-inscapes_bold', 'sub-01_ses-01_task-monkey1_run-01_bold', 'sub-01_ses-01_task-monkey1_run-02_bold', 'sub-01_ses-01_task-peer_bold', 'sub-01_ses-01_task-rest_bold', 'sub-01_ses-01_task-tp_run-01_bold', 'sub-01_ses-01_task-tp_run-02_bold']\n",
      "['mask', 'reg', 'T1w1_denoise.nii.gz']\n"
     ]
    }
   ],
   "source": [
    "import os\n",
    "print(os.listdir(\"Data/sub-01/ses-01/func\"))\n",
    "print(os.listdir(\"Data/sub-01/ses-01/anat\"))"
   ]
  },
  {
   "cell_type": "code",
   "execution_count": 9,
   "metadata": {},
   "outputs": [
    {
     "name": "stdout",
     "output_type": "stream",
     "text": [
      "['func_atlas', 'func_minimal', 'func_nuisance', 'func_preproc', 'func_reg', 'func_seg']\n",
      "['sub-01_ses-01_task-inscapes_space-MNI152Lin_res-3mm_atlas-Schaefer2018_dens-100parcels7networks_desc-sm0gsr_bold.tsv', 'sub-01_ses-01_task-inscapes_space-MNI152Lin_res-3mm_atlas-Schaefer2018_dens-100parcels7networks_desc-sm0_bold.tsv', 'sub-01_ses-01_task-inscapes_space-MNI152Lin_res-3mm_atlas-Schaefer2018_dens-200parcels7networks_desc-sm0gsr_bold.tsv', 'sub-01_ses-01_task-inscapes_space-MNI152Lin_res-3mm_atlas-Schaefer2018_dens-200parcels7networks_desc-sm0_bold.tsv', 'sub-01_ses-01_task-inscapes_space-MNI152Lin_res-3mm_atlas-Schaefer2018_dens-400parcels7networks_desc-sm0gsr_bold.tsv', 'sub-01_ses-01_task-inscapes_space-MNI152Lin_res-3mm_atlas-Schaefer2018_dens-400parcels7networks_desc-sm0_bold.tsv']\n",
      "['example_func.nii.gz', 'example_func_brain.nii.gz', 'func_mc.nii.gz']\n",
      "['compcor_1-5.txt', 'csf.1D', 'csfwm_qvec5.1D', 'csf_qvec.1D', 'csf_wm_global.txt', 'func_mc.1D', 'func_mcdt.1D', 'global.1D', 'mcarsqr_1-6.txt', 'mcar_1-6.txt', 'mcsqr_1-6.txt', 'mc_1-6.txt', 'Model_Motion12_CompCor.txt', 'Model_Motion12_CompCor_Global.txt', 'Model_Motion12_CSF_WM.txt', 'Model_Motion12_CSF_WM_Global.txt', 'Model_Motion24_CompCor.txt', 'Model_Motion24_CompCor_Global.txt', 'Model_Motion24_CSF_WM.txt', 'Model_Motion24_CSF_WM_Global.txt', 'Model_Motion6_CompCor.txt', 'Model_Motion6_CompCor_Global.txt', 'Model_Motion6_CSF_WM.txt', 'Model_Motion6_CSF_WM_Global.txt', 'vcheck_compcor.png', 'vcheck_csf.png', 'vcheck_csf_wm_global.png', 'vcheck_global.png', 'vcheck_motion.png', 'vcheck_motion_0.5.png', 'vcheck_motion_1.png', 'vcheck_wm.png', 'wm.1D', 'wm_qvec.1D']\n",
      "['func_pp_filter_gsr_sm0.mni152.3mm.nii.gz', 'func_pp_filter_sm0.mni152.3mm.nii.gz', 'func_pp_nofilt_gsr_sm0.mni152.3mm.nii.gz', 'func_pp_nofilt_sm0.mni152.3mm.nii.gz', 'Regressors_model.log']\n",
      "['example_func2highres.mat', 'example_func2standard.mat', 'fnirt_example_func2standard.nii.gz', 'func_pp_mask.nii.gz', 'highres2example_func.mat', 'standard2example_func.mat', 'vcheck']\n",
      "['aparc+aseg2func.nii.gz', 'aparc.a2009s+aseg2func.nii.gz', 'aseg2func.nii.gz', 'csf2func.nii.gz', 'csf2func_pvf.nii.gz', 'csf_mask.nii.gz', 'csf_mask.png', 'global_mask.nii.gz', 'global_mask.png', 'wm2func.nii.gz', 'wm2func_pvf.nii.gz', 'wm_mask.nii.gz', 'wm_mask.png']\n"
     ]
    }
   ],
   "source": [
    "print(os.listdir(\"Data/sub-01/ses-01/func/sub-01_ses-01_task-inscapes_bold\"))\n",
    "for file in os.listdir(\"Data/sub-01/ses-01/func/sub-01_ses-01_task-inscapes_bold\"):\n",
    "    print(os.listdir(f\"Data/sub-01/ses-01/func/sub-01_ses-01_task-inscapes_bold/{file}\"))"
   ]
  },
  {
   "cell_type": "code",
   "execution_count": 10,
   "metadata": {},
   "outputs": [],
   "source": [
    "import pandas as pd \n",
    "def load_fmri_time_series(file_path):\n",
    "    \"\"\"Load fMRI time series data from a TSV file.\"\"\"\n",
    "    fmri_time_series = pd.read_csv(file_path, sep='\\t')\n",
    "    print(f\"Loaded fMRI time series data with shape: {fmri_time_series.shape}\")\n",
    "    return fmri_time_series"
   ]
  },
  {
   "cell_type": "code",
   "execution_count": 11,
   "metadata": {},
   "outputs": [],
   "source": [
    "def apply_nuisance_regression(fmri_data, regressors_path):\n",
    "    \"\"\"Apply nuisance regression using given regressors.\"\"\"\n",
    "    regressors = pd.read_csv(regressors_path, delim_whitespace=True)\n",
    "    print(f\"Loaded nuisance regressors with shape: {regressors.shape}\")\n",
    "    fmri_data_corrected = fmri_data.copy()\n",
    "    return fmri_data_corrected"
   ]
  },
  {
   "cell_type": "code",
   "execution_count": 12,
   "metadata": {},
   "outputs": [],
   "source": [
    "atlas_file_path = 'Data/sub-01/ses-01/func/sub-01_ses-01_task-inscapes_bold/func_atlas/sub-01_ses-01_task-inscapes_space-MNI152Lin_res-3mm_atlas-Schaefer2018_dens-100parcels7networks_desc-sm0gsr_bold.tsv'\n",
    "nuisance_regressors_path = 'Data/sub-01/ses-01/func/sub-01_ses-01_task-inscapes_bold/func_nuisance/Model_Motion12_CompCor.txt'"
   ]
  },
  {
   "cell_type": "code",
   "execution_count": 13,
   "metadata": {},
   "outputs": [
    {
     "name": "stdout",
     "output_type": "stream",
     "text": [
      "Loaded fMRI time series data with shape: (99, 288)\n",
      "Loaded nuisance regressors with shape: (287, 17)\n"
     ]
    }
   ],
   "source": [
    "fmri_time_series = load_fmri_time_series(atlas_file_path)\n",
    "fmri_data_corrected = apply_nuisance_regression(\n",
    "    fmri_time_series, nuisance_regressors_path)"
   ]
  },
  {
   "cell_type": "code",
   "execution_count": 14,
   "metadata": {},
   "outputs": [],
   "source": [
    "import nibabel as nib\n",
    "fmri_img = nib.load(\n",
    "    'Data/sub-01/ses-01/func/sub-01_ses-01_task-inscapes_bold/func_preproc/func_pp_filter_sm0.mni152.3mm.nii.gz')\n",
    "fmri_data = fmri_img.get_fdata()\n",
    "fmri_tr = fmri_img.header.get_zooms()[3]  \n",
    "num_volumes = fmri_data.shape[-1]  "
   ]
  },
  {
   "cell_type": "code",
   "execution_count": 15,
   "metadata": {},
   "outputs": [],
   "source": [
    "video_path = \"Data/video.tar/inscapes_02.avi\"\n",
    "cap = cv2.VideoCapture(video_path)\n",
    "fps = cap.get(cv2.CAP_PROP_FPS)\n",
    "num_frames = int(cap.get(cv2.CAP_PROP_FRAME_COUNT))"
   ]
  },
  {
   "cell_type": "code",
   "execution_count": 16,
   "metadata": {},
   "outputs": [],
   "source": [
    "frames_per_tr = fps * fmri_tr  \n",
    "aligned_frames = []\n",
    "\n",
    "for volume_idx in range(num_volumes):\n",
    "    start_frame = int(volume_idx * frames_per_tr)\n",
    "    end_frame = int((volume_idx + 1) * frames_per_tr)\n",
    "\n",
    "    cap.set(cv2.CAP_PROP_POS_FRAMES, start_frame)\n",
    "    ret, frame = cap.read()\n",
    "\n",
    "    if ret:\n",
    "        aligned_frames.append(frame)\n",
    "    else:\n",
    "        break"
   ]
  },
  {
   "cell_type": "code",
   "execution_count": 52,
   "metadata": {},
   "outputs": [],
   "source": [
    "from mne import make_forward_solution, make_bem_model, make_bem_solution\n",
    "from mne.minimum_norm import make_inverse_operator, apply_inverse\n",
    "from mne.bem import make_watershed_bem"
   ]
  },
  {
   "cell_type": "code",
   "execution_count": 20,
   "metadata": {},
   "outputs": [
    {
     "name": "stderr",
     "output_type": "stream",
     "text": [
      "C:\\Users\\anisr\\AppData\\Local\\Temp\\ipykernel_17024\\2515386789.py:8: RuntimeWarning: Limited 2 annotation(s) that were expanding outside the data range.\n",
      "  return mne.io.read_raw_eeglab(eeg_path, preload=True)\n",
      "C:\\Users\\anisr\\AppData\\Local\\Temp\\ipykernel_17024\\2515386789.py:8: RuntimeWarning: The data contains 'boundary' events, indicating data discontinuities. Be cautious of filtering and epoching around these events.\n",
      "  return mne.io.read_raw_eeglab(eeg_path, preload=True)\n"
     ]
    }
   ],
   "source": [
    "raw = load_eeg(\"Data/sub-01/ses-01/eeg/sub-01_ses-01_task-inscapes_eeg.set\")"
   ]
  },
  {
   "cell_type": "code",
   "execution_count": 58,
   "metadata": {},
   "outputs": [
    {
     "name": "stdout",
     "output_type": "stream",
     "text": [
      "Creating the BEM geometry...\n",
      "Going from 5th to 4th subdivision of an icosahedron (n_tri: 20480 -> 5120)\n",
      "inner skull CM is  -0.53 -21.10   6.21 mm\n",
      "Surfaces passed the basic topology checks.\n",
      "Complete.\n",
      "\n",
      "Homogeneous model surface loaded.\n",
      "Computing the linear collocation solution...\n",
      "    Matrix coefficients...\n",
      "        inner skull (2562) -> inner skull (2562) ...\n",
      "    Inverting the coefficient matrix...\n",
      "Solution ready.\n",
      "BEM geometry computations complete.\n"
     ]
    }
   ],
   "source": [
    "bem_model = make_bem_model(subject='fsaverage', conductivity=(3,))\n",
    "bem_solution = make_bem_solution(bem_model)"
   ]
  },
  {
   "cell_type": "code",
   "execution_count": 65,
   "metadata": {},
   "outputs": [
    {
     "name": "stdout",
     "output_type": "stream",
     "text": [
      "0 files missing from root.txt in C:\\Users\\anisr\\mne_data\\MNE-fsaverage-data\n",
      "0 files missing from bem.txt in C:\\Users\\anisr\\mne_data\\MNE-fsaverage-data\\fsaverage\n",
      "Creating the BEM geometry...\n",
      "Going from 5th to 4th subdivision of an icosahedron (n_tri: 20480 -> 5120)\n",
      "Going from 5th to 4th subdivision of an icosahedron (n_tri: 20480 -> 5120)\n",
      "Going from 5th to 4th subdivision of an icosahedron (n_tri: 20480 -> 5120)\n",
      "outer skin  CM is  -0.21 -19.38  -0.23 mm\n",
      "outer skull CM is  -0.19 -19.34  -0.49 mm\n",
      "inner skull CM is  -0.53 -21.10   6.21 mm\n",
      "Checking that surface outer skull is inside surface outer skin  ...\n",
      "Checking that surface inner skull is inside surface outer skull ...\n",
      "Checking distance between outer skin  and outer skull surfaces...\n",
      "Minimum distance between the outer skin  and outer skull surfaces is approximately    1.6 mm\n",
      "Checking distance between outer skull and inner skull surfaces...\n",
      "Minimum distance between the outer skull and inner skull surfaces is approximately    5.4 mm\n",
      "Surfaces passed the basic topology checks.\n",
      "Complete.\n",
      "\n",
      "Three-layer model surfaces loaded.\n",
      "Computing the linear collocation solution...\n",
      "    Matrix coefficients...\n",
      "        outer skin  (2562) -> outer skin  (2562) ...\n",
      "        outer skin  (2562) -> outer skull (2562) ...\n",
      "        outer skin  (2562) -> inner skull (2562) ...\n",
      "        outer skull (2562) -> outer skin  (2562) ...\n",
      "        outer skull (2562) -> outer skull (2562) ...\n",
      "        outer skull (2562) -> inner skull (2562) ...\n",
      "        inner skull (2562) -> outer skin  (2562) ...\n",
      "        inner skull (2562) -> outer skull (2562) ...\n",
      "        inner skull (2562) -> inner skull (2562) ...\n",
      "    Inverting the coefficient matrix...\n",
      "IP approach required...\n",
      "    Matrix coefficients (homog)...\n",
      "        inner skull (2562) -> inner skull (2562) ...\n",
      "    Inverting the coefficient matrix (homog)...\n",
      "    Modify the original solution to incorporate IP approach...\n",
      "        Combining...\n",
      "        Scaling...\n",
      "Solution ready.\n",
      "BEM geometry computations complete.\n",
      "BEM model and solution created successfully.\n"
     ]
    }
   ],
   "source": [
    "from mne.datasets import fetch_fsaverage\n",
    "\n",
    "fs_dir = fetch_fsaverage(verbose=True)\n",
    "\n",
    "subjects_dir = fs_dir\n",
    "subject = '.'\n",
    "\n",
    "bem_model = make_bem_model(subject=subject,ico=4, conductivity=[0.3,0.006,0.3],\n",
    "                           subjects_dir=subjects_dir)\n",
    "bem_solution = make_bem_solution(bem_model)\n",
    "\n",
    "print(\"BEM model and solution created successfully.\")"
   ]
  },
  {
   "cell_type": "code",
   "execution_count": 66,
   "metadata": {},
   "outputs": [
    {
     "name": "stdout",
     "output_type": "stream",
     "text": [
      "Setting up the source space with the following parameters:\n",
      "\n",
      "SUBJECTS_DIR = C:\\Users\\anisr\\mne_data\\MNE-fsaverage-data\\fsaverage\n",
      "Subject      = .\n",
      "Surface      = white\n",
      "Octahedron subdivision grade 6\n",
      "\n",
      ">>> 1. Creating the source space...\n",
      "\n",
      "Doing the octahedral vertex picking...\n",
      "Loading C:\\Users\\anisr\\mne_data\\MNE-fsaverage-data\\fsaverage\\surf\\lh.white...\n",
      "Mapping lh . -> oct (6) ...\n",
      "    Warning: zero size triangles: [3 4]\n",
      "    Triangle neighbors and vertex normals...\n",
      "Loading geometry from C:\\Users\\anisr\\mne_data\\MNE-fsaverage-data\\fsaverage\\surf\\lh.sphere...\n",
      "Setting up the triangulation for the decimated surface...\n",
      "loaded lh.white 4098/163842 selected to source space (oct = 6)\n",
      "\n",
      "Loading C:\\Users\\anisr\\mne_data\\MNE-fsaverage-data\\fsaverage\\surf\\rh.white...\n",
      "Mapping rh . -> oct (6) ...\n",
      "    Warning: zero size triangles: [3 4]\n",
      "    Triangle neighbors and vertex normals...\n",
      "Loading geometry from C:\\Users\\anisr\\mne_data\\MNE-fsaverage-data\\fsaverage\\surf\\rh.sphere...\n",
      "Setting up the triangulation for the decimated surface...\n",
      "loaded rh.white 4098/163842 selected to source space (oct = 6)\n",
      "\n",
      "Calculating source space distances (limit=inf mm)...\n",
      "    Computing patch statistics...\n",
      "    Patch information added...\n",
      "    Computing patch statistics...\n",
      "    Patch information added...\n",
      "You are now one step closer to computing the gain matrix\n",
      "Overwriting existing file.\n",
      "    Write a source space...\n"
     ]
    },
    {
     "name": "stderr",
     "output_type": "stream",
     "text": [
      "C:\\Users\\anisr\\AppData\\Local\\Temp\\ipykernel_17024\\2137342284.py:5: RuntimeWarning: This filename (src.fif) does not conform to MNE naming conventions. All source space files should end with -src.fif, -src.fif.gz, _src.fif or _src.fif.gz\n",
      "  write_source_spaces('src.fif', src,overwrite=True)\n"
     ]
    },
    {
     "name": "stdout",
     "output_type": "stream",
     "text": [
      "    [done]\n",
      "    Write a source space...\n",
      "    [done]\n",
      "    2 source spaces written\n"
     ]
    }
   ],
   "source": [
    "from mne import setup_source_space, write_source_spaces\n",
    "\n",
    "src = setup_source_space(\n",
    "    subject='.', spacing='oct6', subjects_dir=fs_dir)\n",
    "write_source_spaces('src.fif', src,overwrite=True)"
   ]
  },
  {
   "cell_type": "code",
   "execution_count": 67,
   "metadata": {},
   "outputs": [
    {
     "name": "stderr",
     "output_type": "stream",
     "text": [
      "C:\\Users\\anisr\\AppData\\Local\\Temp\\ipykernel_17024\\1592518583.py:2: RuntimeWarning: Data will be preloaded. preload=False or a string preload is not supported when the data is stored in the .set file\n",
      "  info = mne.io.read_raw(\"Data/sub-01/ses-01/eeg/sub-01_ses-01_task-inscapes_eeg.set\").info\n",
      "C:\\Users\\anisr\\AppData\\Local\\Temp\\ipykernel_17024\\1592518583.py:2: RuntimeWarning: Limited 2 annotation(s) that were expanding outside the data range.\n",
      "  info = mne.io.read_raw(\"Data/sub-01/ses-01/eeg/sub-01_ses-01_task-inscapes_eeg.set\").info\n",
      "C:\\Users\\anisr\\AppData\\Local\\Temp\\ipykernel_17024\\1592518583.py:2: RuntimeWarning: The data contains 'boundary' events, indicating data discontinuities. Be cautious of filtering and epoching around these events.\n",
      "  info = mne.io.read_raw(\"Data/sub-01/ses-01/eeg/sub-01_ses-01_task-inscapes_eeg.set\").info\n"
     ]
    },
    {
     "name": "stdout",
     "output_type": "stream",
     "text": [
      "Using high resolution head model in C:\\Users\\anisr\\mne_data\\MNE-fsaverage-data\\fsaverage\\bem\\fsaverage-head-dense.fif\n",
      "    Triangle neighbors and vertex normals...\n",
      "Using fiducials from: C:\\Users\\anisr\\mne_data\\MNE-fsaverage-data\\fsaverage\\bem\\fsaverage-fiducials.fif.\n",
      "Overwriting existing file.\n"
     ]
    },
    {
     "name": "stderr",
     "output_type": "stream",
     "text": [
      "C:\\Users\\anisr\\AppData\\Local\\Temp\\ipykernel_17024\\1592518583.py:4: RuntimeWarning: This filename (trans.fif) does not conform to MNE naming conventions. All trans files should end with -trans.fif, -trans.fif.gz, _trans.fif or _trans.fif.gz\n",
      "  mne.write_trans(\"trans.fif\",trans,overwrite=True)\n"
     ]
    }
   ],
   "source": [
    "from mne import coreg \n",
    "info = mne.io.read_raw(\"Data/sub-01/ses-01/eeg/sub-01_ses-01_task-inscapes_eeg.set\").info\n",
    "trans = coreg.Coregistration(info,\"fsaverage\").trans\n",
    "mne.write_trans(\"trans.fif\",trans,overwrite=True)"
   ]
  },
  {
   "cell_type": "code",
   "execution_count": 68,
   "metadata": {},
   "outputs": [
    {
     "data": {
      "text/plain": [
       "<ConductorModel | BEM (3 layers) solver=mne>"
      ]
     },
     "execution_count": 68,
     "metadata": {},
     "output_type": "execute_result"
    }
   ],
   "source": [
    "bem_solution"
   ]
  },
  {
   "cell_type": "code",
   "execution_count": 82,
   "metadata": {},
   "outputs": [
    {
     "name": "stdout",
     "output_type": "stream",
     "text": [
      "Source space          : src.fif\n",
      "MRI -> head transform : trans.fif\n",
      "Measurement data      : instance of Info\n",
      "Conductor model   : instance of ConductorModel\n",
      "Accurate field computations\n",
      "Do computations in head coordinates\n",
      "Free source orientations\n",
      "\n",
      "Reading src.fif...\n"
     ]
    },
    {
     "name": "stderr",
     "output_type": "stream",
     "text": [
      "C:\\Users\\anisr\\AppData\\Local\\Temp\\ipykernel_17024\\1135861042.py:1: RuntimeWarning: This filename (d:\\eeg_research\\EEg-FMRI\\src.fif) does not conform to MNE naming conventions. All source space files should end with -src.fif, -src.fif.gz, _src.fif, _src.fif.gz, -fwd.fif, -fwd.fif.gz, _fwd.fif, _fwd.fif.gz, -inv.fif, -inv.fif.gz, _inv.fif or _inv.fif.gz\n",
      "  fwd = make_forward_solution(info=raw.info, trans='trans.fif', src='src.fif',\n"
     ]
    },
    {
     "name": "stdout",
     "output_type": "stream",
     "text": [
      "Read 2 source spaces a total of 8196 active source locations\n",
      "\n",
      "Coordinate transformation: MRI (surface RAS) -> head\n",
      "     1.000000  0.000000  0.000000       0.00 mm\n",
      "     0.000000  1.000000  0.000000       0.00 mm\n",
      "     0.000000  0.000000  1.000000       0.00 mm\n",
      "     0.000000  0.000000  0.000000       1.00\n",
      "\n",
      "Read  60 EEG channels from info\n",
      "Head coordinate coil definitions created.\n",
      "Source spaces are now in head coordinates.\n",
      "\n",
      "Employing the head->MRI coordinate transform with the BEM model.\n",
      "BEM model instance of ConductorModel is now set up\n",
      "\n",
      "Source spaces are in head coordinates.\n",
      "Checking that the sources are inside the surface (will take a few...)\n",
      "Checking surface interior status for 4098 points...\n",
      "    Found  999/4098 points inside  an interior sphere of radius   47.7 mm\n",
      "    Found    0/4098 points outside an exterior sphere of radius   98.3 mm\n",
      "    Found    0/3099 points outside using surface Qhull\n",
      "    Found    0/3099 points outside using solid angles\n",
      "    Total 4098/4098 points inside the surface\n",
      "Interior check completed in 1431.0 ms\n",
      "Checking surface interior status for 4098 points...\n",
      "    Found  906/4098 points inside  an interior sphere of radius   47.7 mm\n",
      "    Found    0/4098 points outside an exterior sphere of radius   98.3 mm\n",
      "    Found    0/3192 points outside using surface Qhull\n",
      "    Found    0/3192 points outside using solid angles\n",
      "    Total 4098/4098 points inside the surface\n",
      "Interior check completed in 1770.0 ms\n",
      "\n",
      "Setting up for EEG...\n",
      "Computing EEG at 8196 source locations (free orientations)...\n",
      "\n",
      "Finished.\n"
     ]
    }
   ],
   "source": [
    "fwd = make_forward_solution(info=raw.info, trans='trans.fif', src='src.fif',\n",
    "                            bem=bem_solution, eeg=True, meg=False)"
   ]
  },
  {
   "cell_type": "code",
   "execution_count": 128,
   "metadata": {},
   "outputs": [
    {
     "name": "stdout",
     "output_type": "stream",
     "text": [
      "EEG channel type selected for re-referencing\n",
      "Adding average EEG reference projection.\n",
      "1 projection items deactivated\n",
      "Average reference projection was added, but has not been applied yet. Use the apply_proj method to apply it.\n"
     ]
    },
    {
     "data": {
      "text/plain": [
       "(<RawEEGLAB | sub-01_ses-01_task-inscapes_eeg.set, 60 x 159867 (639.5 s), ~73.3 MB, data loaded>,\n",
       " None)"
      ]
     },
     "execution_count": 128,
     "metadata": {},
     "output_type": "execute_result"
    }
   ],
   "source": [
    "mne.set_eeg_reference(raw,projection=True)"
   ]
  },
  {
   "cell_type": "code",
   "execution_count": 129,
   "metadata": {},
   "outputs": [
    {
     "name": "stdout",
     "output_type": "stream",
     "text": [
      "Used Annotations descriptions: ['QRS', 'R128', 'S  5', 'S 99', 'Sync On', 'boundary']\n",
      "Multiple event values for single event times found. Creating new event value to reflect simultaneous events.\n",
      "Not setting metadata\n",
      "1907 matching events found\n",
      "Setting baseline interval to [-0.2, 0.0] s\n",
      "Applying baseline correction (mode: mean)\n",
      "Created an SSP operator (subspace dimension = 1)\n",
      "1 projection items activated\n"
     ]
    },
    {
     "data": {
      "text/plain": [
       "mne.evoked.EvokedArray"
      ]
     },
     "execution_count": 129,
     "metadata": {},
     "output_type": "execute_result"
    }
   ],
   "source": [
    "events = mne.events_from_annotations(raw)\n",
    "epochs = mne.Epochs(raw,events[0],event_repeated = \"merge\")\n",
    "evoked = epochs.average()\n",
    "type(evoked)"
   ]
  },
  {
   "cell_type": "code",
   "execution_count": 130,
   "metadata": {},
   "outputs": [
    {
     "name": "stdout",
     "output_type": "stream",
     "text": [
      "Using up to 3197 segments\n",
      "Number of samples used : 159850\n",
      "[done]\n",
      "Converting forward solution to surface orientation\n",
      "    Average patch normals will be employed in the rotation to the local surface coordinates....\n",
      "    Converting to surface-based source orientations...\n",
      "    [done]\n",
      "Computing inverse operator with 60 channels.\n",
      "    60 out of 60 channels remain after picking\n",
      "Selected 60 channels\n",
      "Creating the depth weighting matrix...\n",
      "    60 EEG channels\n",
      "    limit = 8197/8196 = 2.176075\n",
      "    scale = 120747 exp = 0.8\n",
      "Applying loose dipole orientations to surface source spaces: 0.2\n",
      "Whitening the forward solution.\n",
      "    Created an SSP operator (subspace dimension = 1)\n",
      "Computing rank from covariance with rank=None\n",
      "    Using tolerance 1.3e-13 (2.2e-16 eps * 60 dim * 9.8  max singular value)\n",
      "    Estimated rank (eeg): 43\n",
      "    EEG: rank 43 computed from 60 data channels with 1 projector\n",
      "    Setting small EEG eigenvalues to zero (without PCA)\n",
      "Creating the source covariance matrix\n",
      "Adjusting source covariance matrix.\n",
      "Computing SVD of whitened and weighted lead field matrix.\n",
      "    largest singular value = 3.07581\n",
      "    scaling factor to adjust the trace = 2.05974e+19 (nchan = 60 nzero = 17)\n",
      "Preparing the inverse operator for use...\n",
      "    Scaled noise and source covariance from nave = 1 to nave = 1904\n",
      "    Created the regularized inverter\n",
      "    Created an SSP operator (subspace dimension = 1)\n",
      "    Created the whitener using a noise covariance matrix with rank 43 (17 small eigenvalues omitted)\n",
      "Applying inverse operator to \"0.37 × 1 + 0.15 × 2 + 0.31 × 3 + 0.00 × 4 + 0.17 × 5 + 0.01 × 6 + 0.00 × 1/3 + 0.00 × 1/2 + 0.00 × 1/5 + 0.00 × 2/3\"...\n",
      "    Picked 60 channels from the data\n",
      "    Computing inverse...\n",
      "    Eigenleads need to be weighted ...\n",
      "    Computing residual...\n",
      "    Explained  73.4% variance\n",
      "    Combining the current components...\n",
      "[done]\n"
     ]
    }
   ],
   "source": [
    "# mne.compute_raw_covariance(raw)\n",
    "inverse_operator = make_inverse_operator(raw.info, fwd, noise_cov=mne.compute_raw_covariance(raw)\n",
    "                                         )\n",
    "\n",
    "stc = apply_inverse(evoked, inverse_operator, lambda2=1.0 / 9.0, method='MNE')\n",
    "\n",
    "eeg_localized = stc.data  "
   ]
  },
  {
   "cell_type": "code",
   "execution_count": 131,
   "metadata": {},
   "outputs": [
    {
     "data": {
      "text/plain": [
       "array([[1.21370700e-12, 8.10202358e-13, 1.81063871e-12, ...,\n",
       "        1.71157739e-12, 3.10732722e-12, 3.74272237e-12],\n",
       "       [8.49555996e-13, 5.42115000e-13, 1.12267323e-12, ...,\n",
       "        1.13093363e-12, 1.24203466e-12, 1.07572403e-12],\n",
       "       [1.10880343e-12, 1.87909849e-12, 2.74393989e-12, ...,\n",
       "        4.62733732e-12, 3.79366802e-12, 3.20012039e-12],\n",
       "       ...,\n",
       "       [6.28524651e-12, 7.79873771e-12, 7.89645881e-12, ...,\n",
       "        7.70641348e-12, 4.13249762e-12, 1.44601617e-12],\n",
       "       [6.07567515e-12, 7.16960504e-12, 7.22076918e-12, ...,\n",
       "        7.37666000e-12, 4.20908235e-12, 1.54343642e-12],\n",
       "       [3.72866303e-12, 5.43551102e-12, 5.69645852e-12, ...,\n",
       "        3.44652630e-12, 1.74205717e-12, 1.70657509e-12]])"
      ]
     },
     "execution_count": 131,
     "metadata": {},
     "output_type": "execute_result"
    }
   ],
   "source": [
    "data_dict = {\n",
    "    \"EEg_Localized\": eeg_localized,\n",
    "    \"fMRI_Data\" : fmri_data,\n",
    "    \"Video_Frame\" : frame\n",
    "}"
   ]
  },
  {
   "cell_type": "code",
   "execution_count": 132,
   "metadata": {},
   "outputs": [
    {
     "name": "stdout",
     "output_type": "stream",
     "text": [
      "8196\n",
      "61\n"
     ]
    }
   ],
   "source": [
    "print(len(eeg_localized))\n",
    "print(len(fmri_data))"
   ]
  },
  {
   "cell_type": "code",
   "execution_count": 141,
   "metadata": {},
   "outputs": [
    {
     "data": {
      "text/plain": [
       "(65607,)"
      ]
     },
     "execution_count": 141,
     "metadata": {},
     "output_type": "execute_result"
    }
   ],
   "source": [
    "eeg_times.shape"
   ]
  },
  {
   "cell_type": "code",
   "execution_count": 140,
   "metadata": {},
   "outputs": [
    {
     "data": {
      "text/plain": [
       "(8196, 176)"
      ]
     },
     "execution_count": 140,
     "metadata": {},
     "output_type": "execute_result"
    }
   ],
   "source": [
    "eeg_localized.shape"
   ]
  },
  {
   "cell_type": "code",
   "execution_count": 143,
   "metadata": {},
   "outputs": [
    {
     "data": {
      "text/plain": [
       "(480, 720, 3)"
      ]
     },
     "execution_count": 143,
     "metadata": {},
     "output_type": "execute_result"
    }
   ],
   "source": [
    "aligned_frames[0].shape"
   ]
  },
  {
   "cell_type": "code",
   "execution_count": null,
   "metadata": {},
   "outputs": [],
   "source": []
  }
 ],
 "metadata": {
  "kernelspec": {
   "display_name": "work",
   "language": "python",
   "name": "python3"
  },
  "language_info": {
   "codemirror_mode": {
    "name": "ipython",
    "version": 3
   },
   "file_extension": ".py",
   "mimetype": "text/x-python",
   "name": "python",
   "nbconvert_exporter": "python",
   "pygments_lexer": "ipython3",
   "version": "3.8.19"
  }
 },
 "nbformat": 4,
 "nbformat_minor": 2
}
