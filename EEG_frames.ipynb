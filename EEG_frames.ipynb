{
 "cells": [
  {
   "cell_type": "code",
   "execution_count": 3,
   "metadata": {},
   "outputs": [],
   "source": [
    "import cv2\n",
    "import mne\n",
    "import numpy as np"
   ]
  },
  {
   "cell_type": "code",
   "execution_count": 15,
   "metadata": {},
   "outputs": [],
   "source": [
    "video_files = {\n",
    "    'inscapes': 'Data/video.tar/Inscapes_02.avi',\n",
    "    'dme_run-01': 'Data/video.tar/Despicable_Me_720x480_English.avi',\n",
    "    'tp_run-01': 'Data/video.tar/The_Present_720x480.avi',\n",
    "}"
   ]
  },
  {
   "cell_type": "code",
   "execution_count": 16,
   "metadata": {},
   "outputs": [],
   "source": [
    "def get_frame_times(video_path):\n",
    "    cap = cv2.VideoCapture(video_path)\n",
    "    fps = cap.get(cv2.CAP_PROP_FPS)\n",
    "    frame_count = int(cap.get(cv2.CAP_PROP_FRAME_COUNT))\n",
    "    duration = frame_count / fps\n",
    "    frame_times = np.linspace(0, duration, frame_count)\n",
    "    return frame_times, fps, frame_count, duration"
   ]
  },
  {
   "cell_type": "code",
   "execution_count": 17,
   "metadata": {},
   "outputs": [],
   "source": [
    "eeg_files = {\n",
    "    'inscapes': 'Data/sub-01/ses-01/eeg/sub-01_ses-01_task-inscapes_eeg.set',\n",
    "    'dme_run-01': 'Data/sub-01/ses-01/eeg/sub-01_ses-01_task-dme_run-01_eeg.set',\n",
    "    'tp_run-01': 'Data/sub-01/ses-01/eeg/sub-01_ses-01_task-tp_run-01_eeg.set',\n",
    "}\n",
    "\n",
    "def load_eeg(eeg_path):\n",
    "    return mne.io.read_raw_eeglab(eeg_path, preload=True)"
   ]
  },
  {
   "cell_type": "code",
   "execution_count": 18,
   "metadata": {},
   "outputs": [
    {
     "name": "stderr",
     "output_type": "stream",
     "text": [
      "C:\\Users\\anisr\\AppData\\Local\\Temp\\ipykernel_16800\\2515386789.py:8: RuntimeWarning: Limited 2 annotation(s) that were expanding outside the data range.\n",
      "  return mne.io.read_raw_eeglab(eeg_path, preload=True)\n",
      "C:\\Users\\anisr\\AppData\\Local\\Temp\\ipykernel_16800\\2515386789.py:8: RuntimeWarning: The data contains 'boundary' events, indicating data discontinuities. Be cautious of filtering and epoching around these events.\n",
      "  return mne.io.read_raw_eeglab(eeg_path, preload=True)\n"
     ]
    }
   ],
   "source": [
    "task = 'inscapes'\n",
    "video_path = video_files[task]\n",
    "eeg_file_path = eeg_files[task]\n",
    "\n",
    "frame_times, fps, frame_count, duration = get_frame_times(video_path)\n",
    "\n",
    "\n",
    "eeg_data = load_eeg(eeg_file_path)\n",
    "eeg_times = eeg_data.times\n",
    "\n",
    "video_start_time = 0  \n",
    "aligned_times = video_start_time + frame_times"
   ]
  },
  {
   "cell_type": "code",
   "execution_count": 19,
   "metadata": {},
   "outputs": [
    {
     "name": "stderr",
     "output_type": "stream",
     "text": [
      "C:\\Users\\anisr\\AppData\\Local\\Temp\\ipykernel_16800\\2515386789.py:8: RuntimeWarning: Limited 2 annotation(s) that were expanding outside the data range.\n",
      "  return mne.io.read_raw_eeglab(eeg_path, preload=True)\n",
      "C:\\Users\\anisr\\AppData\\Local\\Temp\\ipykernel_16800\\2515386789.py:8: RuntimeWarning: The data contains 'boundary' events, indicating data discontinuities. Be cautious of filtering and epoching around these events.\n",
      "  return mne.io.read_raw_eeglab(eeg_path, preload=True)\n",
      "C:\\Users\\anisr\\AppData\\Local\\Temp\\ipykernel_16800\\2515386789.py:8: RuntimeWarning: Limited 3 annotation(s) that were expanding outside the data range.\n",
      "  return mne.io.read_raw_eeglab(eeg_path, preload=True)\n",
      "C:\\Users\\anisr\\AppData\\Local\\Temp\\ipykernel_16800\\2515386789.py:8: RuntimeWarning: The data contains 'boundary' events, indicating data discontinuities. Be cautious of filtering and epoching around these events.\n",
      "  return mne.io.read_raw_eeglab(eeg_path, preload=True)\n",
      "C:\\Users\\anisr\\AppData\\Local\\Temp\\ipykernel_16800\\2515386789.py:8: RuntimeWarning: Limited 2 annotation(s) that were expanding outside the data range.\n",
      "  return mne.io.read_raw_eeglab(eeg_path, preload=True)\n",
      "C:\\Users\\anisr\\AppData\\Local\\Temp\\ipykernel_16800\\2515386789.py:8: RuntimeWarning: The data contains 'boundary' events, indicating data discontinuities. Be cautious of filtering and epoching around these events.\n",
      "  return mne.io.read_raw_eeglab(eeg_path, preload=True)\n"
     ]
    }
   ],
   "source": [
    "for task in eeg_files.keys():\n",
    "    video_path = video_files.get(task)\n",
    "    if not video_path:\n",
    "        print(f\"No video available for task {task}\")\n",
    "        continue\n",
    "\n",
    "    eeg_file_path = eeg_files[task]\n",
    "    frame_times, fps, frame_count, duration = get_frame_times(video_path)\n",
    "    eeg_data = load_eeg(eeg_file_path)\n",
    "    eeg_times = eeg_data.times\n",
    "    aligned_times = video_start_time + frame_times"
   ]
  },
  {
   "cell_type": "code",
   "execution_count": 20,
   "metadata": {},
   "outputs": [
    {
     "data": {
      "text/plain": [
       "array([0.00000000e+00, 3.33709732e-02, 6.67419463e-02, ...,\n",
       "       2.58491558e+02, 2.58524929e+02, 2.58558300e+02])"
      ]
     },
     "execution_count": 20,
     "metadata": {},
     "output_type": "execute_result"
    }
   ],
   "source": [
    "aligned_times"
   ]
  },
  {
   "cell_type": "code",
   "execution_count": null,
   "metadata": {},
   "outputs": [],
   "source": []
  }
 ],
 "metadata": {
  "kernelspec": {
   "display_name": "work",
   "language": "python",
   "name": "python3"
  },
  "language_info": {
   "codemirror_mode": {
    "name": "ipython",
    "version": 3
   },
   "file_extension": ".py",
   "mimetype": "text/x-python",
   "name": "python",
   "nbconvert_exporter": "python",
   "pygments_lexer": "ipython3",
   "version": "3.8.19"
  }
 },
 "nbformat": 4,
 "nbformat_minor": 2
}
